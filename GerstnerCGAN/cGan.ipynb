version https://git-lfs.github.com/spec/v1
oid sha256:df1c200d9064cb85dee6b64b11cfe11bd7690d0ebedffc6f6ea781e86517063c
size 43763735
