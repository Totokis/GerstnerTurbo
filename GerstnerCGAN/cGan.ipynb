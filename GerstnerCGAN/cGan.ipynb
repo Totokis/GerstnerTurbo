version https://git-lfs.github.com/spec/v1
oid sha256:247497c0fa77258f0721c781c74592d7972b089180c6ff3472d98e90dd96728e
size 1504905
