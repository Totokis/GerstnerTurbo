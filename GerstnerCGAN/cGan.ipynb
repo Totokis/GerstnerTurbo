version https://git-lfs.github.com/spec/v1
oid sha256:a0bf5353e52c24344487a539a51e5d6f085e84f4030f24816ae783470a58bc62
size 17949
