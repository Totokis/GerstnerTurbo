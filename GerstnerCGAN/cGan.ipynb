version https://git-lfs.github.com/spec/v1
oid sha256:ec4e0e86bf59c40ee12f5ebabdce116e5c3a500dc6a63ed45d3f19a2ac3b3220
size 41346747
