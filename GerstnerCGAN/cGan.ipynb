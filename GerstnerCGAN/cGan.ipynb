version https://git-lfs.github.com/spec/v1
oid sha256:4bf889e48f6ff5339373d730201d745ad8f92148fd9ab34c018e9f62310e9f88
size 18406506
