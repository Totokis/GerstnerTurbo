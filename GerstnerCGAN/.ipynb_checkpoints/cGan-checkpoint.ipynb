version https://git-lfs.github.com/spec/v1
oid sha256:ee71677387cae834113c2f675724b5a7297a2d31fbb3a067ec0ec11eb73e60e5
size 11887236
