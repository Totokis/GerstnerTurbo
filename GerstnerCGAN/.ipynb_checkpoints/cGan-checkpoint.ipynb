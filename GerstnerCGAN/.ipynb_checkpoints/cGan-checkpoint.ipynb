version https://git-lfs.github.com/spec/v1
oid sha256:afc2d8be87b39183d46d0820a0ea45e45eeb6f47c7d0dfbe63a855779450282b
size 13462487
